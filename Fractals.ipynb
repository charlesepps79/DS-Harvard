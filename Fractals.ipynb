{
 "cells": [
  {
   "cell_type": "code",
   "execution_count": null,
   "metadata": {
    "collapsed": true
   },
   "outputs": [],
   "source": [
    "#loaded from gist: https://gist.github.com/viebel/5349bcca144c41b8f83af39079bf59ad\n",
    "import turtle\n",
    "\n",
    "def hilbert2(step, rule, angle, depth, t):\n",
    "   if depth > 0:\n",
    "      a = lambda: hilbert2(step, \"a\", angle, depth - 1, t)\n",
    "      b = lambda: hilbert2(step, \"b\", angle, depth - 1, t)\n",
    "      left = lambda: t.left(angle)\n",
    "      right = lambda: t.right(angle)\n",
    "      forward = lambda: t.forward(step)\n",
    "      if rule == \"a\":\n",
    "        left(); b(); forward(); right(); a(); forward(); a(); right(); forward(); b(); left();\n",
    "      if rule == \"b\":\n",
    "        right(); a(); forward(); left(); b(); forward(); b(); left(); forward(); a(); right();\n",
    "        \n",
    "myTurtle = turtle.Turtle()\n",
    "myTurtle.speed(0)\n",
    "hilbert2(5, \"a\", 90, 5, myTurtle)"
   ]
  },
  {
   "cell_type": "code",
   "execution_count": null,
   "metadata": {
    "collapsed": true
   },
   "outputs": [],
   "source": [
    "import turtle\n",
    "import colorsys\n",
    "\n",
    "s = \"F\"\n",
    "rep1 = \"-F++G-\"\n",
    "rep2 = \"+F--G+\"\n",
    "its = 14\n",
    "\n",
    "for k in range(its):\n",
    "    z = [(i,s[i]) for i in range(len(s)-1, -1, -1) if s[i]=='F' or s[i]=='G']\n",
    "    #print(z)\n",
    "    for i in z:\n",
    "        s = s[:i[0]]+(rep1 if i[1]=='F' else rep2)+s[i[0]+1:]\n",
    "    #print(s)\n",
    "\n",
    "\n",
    "#draw\n",
    "turtle.setworldcoordinates(-200, -500, 800, 500)\n",
    "turtle.setup(0.8, 0.8)\n",
    "wn = turtle.Screen()\n",
    "wn.delay(0)\n",
    "t = turtle.Turtle()\n",
    "t.speed(0)\n",
    "t.pensize(2)\n",
    "t.ht()\n",
    "angle = 45\n",
    "speed = 6\n",
    "steps = s.count('F')+s.count('G')\n",
    "stepsSoFar = 0\n",
    "for i in s:\n",
    "    if(i=='F' or i=='G'):\n",
    "        stepsSoFar += 1\n",
    "        n = (1.0*stepsSoFar)/steps;\n",
    "        t.pencolor(colorsys.hsv_to_rgb(n, 0.9,0.5))\n",
    "        t.forward(speed)\n",
    "    elif(i=='+'):\n",
    "        t.left(angle)\n",
    "    elif(i=='-'):\n",
    "        t.right(angle)\n"
   ]
  },
  {
   "cell_type": "code",
   "execution_count": null,
   "metadata": {
    "collapsed": true
   },
   "outputs": [],
   "source": [
    "import turtle\n",
    "\n",
    "t = turtle.Turtle(shape=\"turtle\")\n",
    "\n",
    "t.lt(90)\n",
    "\n",
    "lv = 13\n",
    "l = 120\n",
    "s = 17\n",
    "\n",
    "t.width(lv)\n",
    "\n",
    "t.penup()\n",
    "t.bk(l)\n",
    "t.pendown()\n",
    "t.fd(l)\n",
    "\n",
    "def draw_tree(l, level):\n",
    "    width = t.width()  # save the current pen width\n",
    "\n",
    "    t.width(width * 3.0 / 4.0)  # narrow the pen width\n",
    "\n",
    "    l = 3.0 / 4.0 * l\n",
    "\n",
    "    t.lt(s)\n",
    "    t.fd(l)\n",
    "\n",
    "    if level < lv:\n",
    "        draw_tree(l, level + 1)\n",
    "    t.bk(l)\n",
    "    t.rt(2 * s)\n",
    "    t.fd(l)\n",
    "\n",
    "    if level < lv:\n",
    "        draw_tree(l, level + 1)\n",
    "    t.bk(l)\n",
    "    t.lt(s)\n",
    "\n",
    "    t.width(width)  # restore the previous pen width\n",
    "\n",
    "t.speed(\"fastest\")\n",
    "\n",
    "draw_tree(l, 2)\n",
    "\n",
    "turtle.done()"
   ]
  },
  {
   "cell_type": "code",
   "execution_count": null,
   "metadata": {
    "collapsed": true
   },
   "outputs": [],
   "source": [
    "from turtle import *\n",
    " \n",
    "def f(length, depth):\n",
    "   if depth == 0:\n",
    "     forward(length)\n",
    "   else:\n",
    "     f(length/3, depth-1)\n",
    "     right(60)\n",
    "     f(length/3, depth-1)\n",
    "     left(120)\n",
    "     f(length/3, depth-1)\n",
    "     right(60)\n",
    "     f(length/3, depth-1)\n",
    " \n",
    "f(500, 4)"
   ]
  },
  {
   "cell_type": "code",
   "execution_count": null,
   "metadata": {
    "collapsed": true
   },
   "outputs": [],
   "source": []
  }
 ],
 "metadata": {
  "kernelspec": {
   "display_name": "Python 3",
   "language": "python",
   "name": "python3"
  },
  "language_info": {
   "codemirror_mode": {
    "name": "ipython",
    "version": 3
   },
   "file_extension": ".py",
   "mimetype": "text/x-python",
   "name": "python",
   "nbconvert_exporter": "python",
   "pygments_lexer": "ipython3",
   "version": "3.6.2"
  }
 },
 "nbformat": 4,
 "nbformat_minor": 2
}
