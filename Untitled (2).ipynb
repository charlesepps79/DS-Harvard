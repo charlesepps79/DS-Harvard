{
 "cells": [
  {
   "cell_type": "code",
   "execution_count": null,
   "metadata": {
    "collapsed": true
   },
   "outputs": [],
   "source": [
    "import requests\n",
    "\n",
    "# Set the request parameters\n",
    "url = 'https://gepowerpac.service-now.com/api/now/table/problem?sysparm_limit=1'\n",
    "\n",
    "# Eg. User name=\"admin\", Password=\"admin\" for this code sample.\n",
    "user = 'username'\n",
    "pwd = 'password'\n",
    "\n",
    "# Set proper headers\n",
    "headers = {\"Content-Type\":\"application/json\",\"Accept\":\"application/json\"}\n",
    "\n",
    "# Do the HTTP request\n",
    "response = requests.get(url, auth=(user, pwd), headers=headers  )"
   ]
  }
 ],
 "metadata": {
  "kernelspec": {
   "display_name": "Python 3",
   "language": "python",
   "name": "python3"
  },
  "language_info": {
   "codemirror_mode": {
    "name": "ipython",
    "version": 3
   },
   "file_extension": ".py",
   "mimetype": "text/x-python",
   "name": "python",
   "nbconvert_exporter": "python",
   "pygments_lexer": "ipython3",
   "version": "3.6.2"
  }
 },
 "nbformat": 4,
 "nbformat_minor": 2
}
