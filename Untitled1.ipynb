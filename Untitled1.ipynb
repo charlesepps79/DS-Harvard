{
 "cells": [
  {
   "cell_type": "code",
   "execution_count": 29,
   "metadata": {
    "collapsed": true
   },
   "outputs": [],
   "source": [
    "# The %... is an iPython thing, and is not part of the Python language.\n",
    "# In this case we're just telling the plotting library to draw things on\n",
    "# the notebook, instead of on a separate window.\n",
    "%matplotlib inline\n",
    "# See all the \"as ...\" contructs? They're just aliasing the package names.\n",
    "# That way we can call methods like plt.plot() instead of matplotlib.pyplot.plot().\n",
    "import numpy as np\n",
    "import scipy as sp\n",
    "import matplotlib as mpl\n",
    "import matplotlib.cm as cm\n",
    "import matplotlib.pyplot as plt\n",
    "import pandas as pd\n",
    "import time\n",
    "pd.set_option('display.width', 500)\n",
    "pd.set_option('display.max_columns', 100)\n",
    "pd.set_option('display.notebook_repr_html', True)\n",
    "import seaborn as sns\n",
    "sns.set_style(\"whitegrid\")\n",
    "sns.set_context(\"poster\")"
   ]
  },
  {
   "cell_type": "code",
   "execution_count": 42,
   "metadata": {
    "collapsed": true
   },
   "outputs": [],
   "source": [
    "ourschema=\"\"\"\n",
    "DROP TABLE IF EXISTS \"dbo.Provider\";\n",
    "DROP TABLE IF EXISTS \"dbo.People\";\n",
    "CREATE TABLE \"dbo.Provider\" (\n",
    "    \"ID\" INTEGER PRIMARY KEY  NOT NULL ,\n",
    "    \"Name\" VARCHAR,\n",
    "    \"ServiceType\" VARCHAR\n",
    ");\n",
    "CREATE TABLE \"dboPeople\" (\n",
    "    \"ID\" INTEGER PRIMARY KEY  AUTOINCREMENT  NOT NULL,\n",
    "    \"FirstName\" VARCHAR,\n",
    "    \"LastName\" VARCHAR,\n",
    "    \"DOB\" DATETIME,\n",
    "    \"Provider\" INTEGER NOT NULL,\n",
    "    FOREIGN KEY(Provider) REFERENCES dboProvider(ID)\n",
    ");\n",
    "\"\"\""
   ]
  },
  {
   "cell_type": "code",
   "execution_count": 43,
   "metadata": {
    "collapsed": true
   },
   "outputs": [],
   "source": [
    "from sqlite3 import dbapi2 as sq3\n",
    "import os\n",
    "PATHSTART=\".\"\n",
    "def get_db(dbfile):\n",
    "    sqlite_db = sq3.connect(os.path.join(PATHSTART, dbfile))\n",
    "    return sqlite_db"
   ]
  },
  {
   "cell_type": "code",
   "execution_count": 44,
   "metadata": {
    "collapsed": true
   },
   "outputs": [],
   "source": [
    "def init_db(dbfile, schema):\n",
    "    \"\"\"Creates the database tables.\"\"\"\n",
    "    db = get_db(dbfile)\n",
    "    db.cursor().executescript(schema)\n",
    "    db.commit()\n",
    "    return db"
   ]
  },
  {
   "cell_type": "code",
   "execution_count": 45,
   "metadata": {},
   "outputs": [
    {
     "data": {
      "text/html": [
       "<div>\n",
       "<style>\n",
       "    .dataframe thead tr:only-child th {\n",
       "        text-align: right;\n",
       "    }\n",
       "\n",
       "    .dataframe thead th {\n",
       "        text-align: left;\n",
       "    }\n",
       "\n",
       "    .dataframe tbody tr th {\n",
       "        vertical-align: top;\n",
       "    }\n",
       "</style>\n",
       "<table border=\"1\" class=\"dataframe\">\n",
       "  <thead>\n",
       "    <tr style=\"text-align: right;\">\n",
       "      <th></th>\n",
       "      <th>ID</th>\n",
       "      <th>FirstName</th>\n",
       "      <th>LastName</th>\n",
       "      <th>DOB</th>\n",
       "      <th>Provider</th>\n",
       "    </tr>\n",
       "  </thead>\n",
       "  <tbody>\n",
       "    <tr>\n",
       "      <th>0</th>\n",
       "      <td>1</td>\n",
       "      <td>John</td>\n",
       "      <td>Jones</td>\n",
       "      <td>1980-04-03</td>\n",
       "      <td>3</td>\n",
       "    </tr>\n",
       "    <tr>\n",
       "      <th>1</th>\n",
       "      <td>2</td>\n",
       "      <td>Marsha</td>\n",
       "      <td>Jones</td>\n",
       "      <td>1981-05-01</td>\n",
       "      <td>3</td>\n",
       "    </tr>\n",
       "    <tr>\n",
       "      <th>2</th>\n",
       "      <td>3</td>\n",
       "      <td>Bob</td>\n",
       "      <td>Daniels</td>\n",
       "      <td>1977-07-25</td>\n",
       "      <td>2</td>\n",
       "    </tr>\n",
       "    <tr>\n",
       "      <th>3</th>\n",
       "      <td>4</td>\n",
       "      <td>Cherry</td>\n",
       "      <td>Hill</td>\n",
       "      <td>1984-03-26</td>\n",
       "      <td>1</td>\n",
       "    </tr>\n",
       "    <tr>\n",
       "      <th>4</th>\n",
       "      <td>5</td>\n",
       "      <td>Nathaniel</td>\n",
       "      <td>Bosley</td>\n",
       "      <td>1990-01-01</td>\n",
       "      <td>8</td>\n",
       "    </tr>\n",
       "    <tr>\n",
       "      <th>5</th>\n",
       "      <td>6</td>\n",
       "      <td>Jorge</td>\n",
       "      <td>Rodriguez</td>\n",
       "      <td>1987-10-28</td>\n",
       "      <td>7</td>\n",
       "    </tr>\n",
       "    <tr>\n",
       "      <th>6</th>\n",
       "      <td>7</td>\n",
       "      <td>Theodore</td>\n",
       "      <td>James</td>\n",
       "      <td>1985-06-22</td>\n",
       "      <td>6</td>\n",
       "    </tr>\n",
       "    <tr>\n",
       "      <th>7</th>\n",
       "      <td>8</td>\n",
       "      <td>Eva</td>\n",
       "      <td>Herring</td>\n",
       "      <td>1976-01-12</td>\n",
       "      <td>5</td>\n",
       "    </tr>\n",
       "    <tr>\n",
       "      <th>8</th>\n",
       "      <td>9</td>\n",
       "      <td>Loretta</td>\n",
       "      <td>Smith</td>\n",
       "      <td>1956-05-23</td>\n",
       "      <td>4</td>\n",
       "    </tr>\n",
       "    <tr>\n",
       "      <th>9</th>\n",
       "      <td>10</td>\n",
       "      <td>Joey</td>\n",
       "      <td>McDade</td>\n",
       "      <td>1975-11-02</td>\n",
       "      <td>3</td>\n",
       "    </tr>\n",
       "    <tr>\n",
       "      <th>10</th>\n",
       "      <td>11</td>\n",
       "      <td>Monte</td>\n",
       "      <td>Christopher</td>\n",
       "      <td>1982-08-16</td>\n",
       "      <td>2</td>\n",
       "    </tr>\n",
       "    <tr>\n",
       "      <th>11</th>\n",
       "      <td>12</td>\n",
       "      <td>Davis</td>\n",
       "      <td>McLovin</td>\n",
       "      <td>1988-02-24</td>\n",
       "      <td>1</td>\n",
       "    </tr>\n",
       "    <tr>\n",
       "      <th>12</th>\n",
       "      <td>13</td>\n",
       "      <td>Arianne</td>\n",
       "      <td>Dayton</td>\n",
       "      <td>1992-07-12</td>\n",
       "      <td>1</td>\n",
       "    </tr>\n",
       "    <tr>\n",
       "      <th>13</th>\n",
       "      <td>14</td>\n",
       "      <td>Zane</td>\n",
       "      <td>Cook</td>\n",
       "      <td>1977-09-30</td>\n",
       "      <td>1</td>\n",
       "    </tr>\n",
       "    <tr>\n",
       "      <th>14</th>\n",
       "      <td>15</td>\n",
       "      <td>Corey</td>\n",
       "      <td>Underwood</td>\n",
       "      <td>1983-02-13</td>\n",
       "      <td>2</td>\n",
       "    </tr>\n",
       "  </tbody>\n",
       "</table>\n",
       "</div>"
      ],
      "text/plain": [
       "    ID  FirstName     LastName         DOB  Provider\n",
       "0    1       John        Jones  1980-04-03         3\n",
       "1    2     Marsha        Jones  1981-05-01         3\n",
       "2    3        Bob      Daniels  1977-07-25         2\n",
       "3    4     Cherry         Hill  1984-03-26         1\n",
       "4    5  Nathaniel       Bosley  1990-01-01         8\n",
       "5    6      Jorge    Rodriguez  1987-10-28         7\n",
       "6    7   Theodore        James  1985-06-22         6\n",
       "7    8        Eva      Herring  1976-01-12         5\n",
       "8    9    Loretta        Smith  1956-05-23         4\n",
       "9   10       Joey       McDade  1975-11-02         3\n",
       "10  11      Monte  Christopher  1982-08-16         2\n",
       "11  12      Davis      McLovin  1988-02-24         1\n",
       "12  13    Arianne       Dayton  1992-07-12         1\n",
       "13  14       Zane         Cook  1977-09-30         1\n",
       "14  15      Corey    Underwood  1983-02-13         2"
      ]
     },
     "execution_count": 45,
     "metadata": {},
     "output_type": "execute_result"
    }
   ],
   "source": [
    "dfPeople=pd.read_csv(\"C:/Users/502689880/dbo.People.txt\", sep='|')\n",
    "dfPeople"
   ]
  },
  {
   "cell_type": "code",
   "execution_count": 46,
   "metadata": {},
   "outputs": [
    {
     "data": {
      "text/html": [
       "<div>\n",
       "<style>\n",
       "    .dataframe thead tr:only-child th {\n",
       "        text-align: right;\n",
       "    }\n",
       "\n",
       "    .dataframe thead th {\n",
       "        text-align: left;\n",
       "    }\n",
       "\n",
       "    .dataframe tbody tr th {\n",
       "        vertical-align: top;\n",
       "    }\n",
       "</style>\n",
       "<table border=\"1\" class=\"dataframe\">\n",
       "  <thead>\n",
       "    <tr style=\"text-align: right;\">\n",
       "      <th></th>\n",
       "      <th>ID</th>\n",
       "      <th>Name</th>\n",
       "      <th>ServiceType</th>\n",
       "    </tr>\n",
       "  </thead>\n",
       "  <tbody>\n",
       "    <tr>\n",
       "      <th>0</th>\n",
       "      <td>1</td>\n",
       "      <td>Netflix</td>\n",
       "      <td>Streaming</td>\n",
       "    </tr>\n",
       "    <tr>\n",
       "      <th>1</th>\n",
       "      <td>2</td>\n",
       "      <td>Amazon Prime</td>\n",
       "      <td>Streaming</td>\n",
       "    </tr>\n",
       "    <tr>\n",
       "      <th>2</th>\n",
       "      <td>3</td>\n",
       "      <td>Comcast</td>\n",
       "      <td>Cable</td>\n",
       "    </tr>\n",
       "    <tr>\n",
       "      <th>3</th>\n",
       "      <td>4</td>\n",
       "      <td>Direct TV</td>\n",
       "      <td>Satelite</td>\n",
       "    </tr>\n",
       "    <tr>\n",
       "      <th>4</th>\n",
       "      <td>5</td>\n",
       "      <td>Charter</td>\n",
       "      <td>Cable</td>\n",
       "    </tr>\n",
       "  </tbody>\n",
       "</table>\n",
       "</div>"
      ],
      "text/plain": [
       "   ID          Name ServiceType\n",
       "0   1       Netflix   Streaming\n",
       "1   2  Amazon Prime   Streaming\n",
       "2   3       Comcast       Cable\n",
       "3   4     Direct TV    Satelite\n",
       "4   5       Charter       Cable"
      ]
     },
     "execution_count": 46,
     "metadata": {},
     "output_type": "execute_result"
    }
   ],
   "source": [
    "dfProvider=pd.read_csv(\"C:/Users/502689880/dbo.Provider.txt\", sep=\"|\")\n",
    "dfProvider.head()"
   ]
  },
  {
   "cell_type": "code",
   "execution_count": 47,
   "metadata": {},
   "outputs": [],
   "source": [
    "db=init_db(\"peopleprovider.db\", ourschema)"
   ]
  },
  {
   "cell_type": "code",
   "execution_count": 48,
   "metadata": {
    "collapsed": true
   },
   "outputs": [],
   "source": [
    "dfProvider.to_sql(\"Provider\", db, if_exists=\"append\", index=False)"
   ]
  },
  {
   "cell_type": "code",
   "execution_count": 49,
   "metadata": {
    "collapsed": true
   },
   "outputs": [],
   "source": [
    "dfPeople.to_sql(\"People\", db, if_exists=\"append\", index=False)"
   ]
  },
  {
   "cell_type": "code",
   "execution_count": 50,
   "metadata": {},
   "outputs": [
    {
     "data": {
      "text/plain": [
       "(15, 5)"
      ]
     },
     "execution_count": 50,
     "metadata": {},
     "output_type": "execute_result"
    }
   ],
   "source": [
    "dfPeople.shape"
   ]
  },
  {
   "cell_type": "code",
   "execution_count": 53,
   "metadata": {},
   "outputs": [],
   "source": [
    "sel=\"\"\"\n",
    "SELECT * FROM Provider;\n",
    "\"\"\"\n",
    "c=db.cursor().execute(sel)"
   ]
  },
  {
   "cell_type": "code",
   "execution_count": 54,
   "metadata": {},
   "outputs": [
    {
     "data": {
      "text/plain": [
       "[(1, 'Netflix', 'Streaming'),\n",
       " (2, 'Amazon Prime', 'Streaming'),\n",
       " (3, 'Comcast', 'Cable'),\n",
       " (4, 'Direct TV', 'Satelite'),\n",
       " (5, 'Charter', 'Cable'),\n",
       " (6, 'Wow', 'Cable'),\n",
       " (7, 'Dish', 'Satelite'),\n",
       " (8, 'Hulu', 'Streaming')]"
      ]
     },
     "execution_count": 54,
     "metadata": {},
     "output_type": "execute_result"
    }
   ],
   "source": [
    "c.fetchall()"
   ]
  },
  {
   "cell_type": "code",
   "execution_count": 55,
   "metadata": {
    "collapsed": true
   },
   "outputs": [],
   "source": [
    "rem=\"\"\"\n",
    "DELETE FROM Provider;\n",
    "\"\"\"\n",
    "c=db.cursor().execute(rem)\n",
    "db.commit()"
   ]
  },
  {
   "cell_type": "code",
   "execution_count": 56,
   "metadata": {},
   "outputs": [
    {
     "data": {
      "text/plain": [
       "[]"
      ]
     },
     "execution_count": 56,
     "metadata": {},
     "output_type": "execute_result"
    }
   ],
   "source": [
    "c.fetchall()"
   ]
  },
  {
   "cell_type": "code",
   "execution_count": 57,
   "metadata": {},
   "outputs": [
    {
     "name": "stdout",
     "output_type": "stream",
     "text": [
      "1 Netflix Streaming\n",
      "\n",
      "INSERT INTO Provider (ID, Name, ServiceType)     VALUES (?,?,?);\n",
      " (1, 'Netflix', 'Streaming')\n",
      "2 Amazon Prime Streaming\n",
      "\n",
      "INSERT INTO Provider (ID, Name, ServiceType)     VALUES (?,?,?);\n",
      " (2, 'Amazon Prime', 'Streaming')\n",
      "3 Comcast Cable\n",
      "\n",
      "INSERT INTO Provider (ID, Name, ServiceType)     VALUES (?,?,?);\n",
      " (3, 'Comcast', 'Cable')\n",
      "4 Direct TV Satelite\n",
      "\n",
      "INSERT INTO Provider (ID, Name, ServiceType)     VALUES (?,?,?);\n",
      " (4, 'Direct TV', 'Satelite')\n",
      "5 Charter Cable\n",
      "\n",
      "INSERT INTO Provider (ID, Name, ServiceType)     VALUES (?,?,?);\n",
      " (5, 'Charter', 'Cable')\n",
      "6 Wow Cable\n",
      "\n",
      "INSERT INTO Provider (ID, Name, ServiceType)     VALUES (?,?,?);\n",
      " (6, 'Wow', 'Cable')\n",
      "7 Dish Satelite\n",
      "\n",
      "INSERT INTO Provider (ID, Name, ServiceType)     VALUES (?,?,?);\n",
      " (7, 'Dish', 'Satelite')\n",
      "8 Hulu Streaming\n",
      "\n",
      "INSERT INTO Provider (ID, Name, ServiceType)     VALUES (?,?,?);\n",
      " (8, 'Hulu', 'Streaming')\n"
     ]
    }
   ],
   "source": [
    "ins=\"\"\"\n",
    "INSERT INTO Provider (ID, Name, ServiceType) \\\n",
    "    VALUES (?,?,?);\n",
    "\"\"\"\n",
    "with open(\"dbo.Provider.txt\") as fd:\n",
    "    slines =[l.strip().split('|') for l in fd.readlines()]\n",
    "    for line in slines[1:]:\n",
    "        theID, Name, ServiceType = line\n",
    "        print (theID, Name, ServiceType)\n",
    "        valstoinsert = (int(theID), Name, ServiceType)\n",
    "        print (ins, valstoinsert)\n",
    "        db.cursor().execute(ins, valstoinsert)"
   ]
  },
  {
   "cell_type": "code",
   "execution_count": 58,
   "metadata": {
    "collapsed": true
   },
   "outputs": [],
   "source": [
    "def make_query(sel):\n",
    "    c=db.cursor().execute(sel)\n",
    "    return c.fetchall()"
   ]
  },
  {
   "cell_type": "code",
   "execution_count": 59,
   "metadata": {},
   "outputs": [
    {
     "data": {
      "text/plain": [
       "[(1, 'Netflix', 'Streaming'),\n",
       " (2, 'Amazon Prime', 'Streaming'),\n",
       " (3, 'Comcast', 'Cable'),\n",
       " (4, 'Direct TV', 'Satelite'),\n",
       " (5, 'Charter', 'Cable'),\n",
       " (6, 'Wow', 'Cable'),\n",
       " (7, 'Dish', 'Satelite'),\n",
       " (8, 'Hulu', 'Streaming')]"
      ]
     },
     "execution_count": 59,
     "metadata": {},
     "output_type": "execute_result"
    }
   ],
   "source": [
    "make_query(\"SELECT * FROM Provider;\")"
   ]
  },
  {
   "cell_type": "code",
   "execution_count": 62,
   "metadata": {},
   "outputs": [
    {
     "data": {
      "text/plain": [
       "['ID', 'FirstName', 'LastName', 'DOB', 'Provider']"
      ]
     },
     "execution_count": 62,
     "metadata": {},
     "output_type": "execute_result"
    }
   ],
   "source": [
    "cont_cols = [e[1] for e in make_query(\"PRAGMA table_info(People);\")]\n",
    "cont_cols"
   ]
  },
  {
   "cell_type": "code",
   "execution_count": 63,
   "metadata": {},
   "outputs": [],
   "source": [
    "def make_frame(list_of_tuples, legend=cont_cols):\n",
    "    framelist=[]\n",
    "    for i, cname in enumerate(legend):\n",
    "        framelist.append((cname,[e[i] for e in list_of_tuples]))\n",
    "    return pd.DataFrame.from_items(framelist)"
   ]
  },
  {
   "cell_type": "code",
   "execution_count": 68,
   "metadata": {},
   "outputs": [
    {
     "data": {
      "text/html": [
       "<div>\n",
       "<style>\n",
       "    .dataframe thead tr:only-child th {\n",
       "        text-align: right;\n",
       "    }\n",
       "\n",
       "    .dataframe thead th {\n",
       "        text-align: left;\n",
       "    }\n",
       "\n",
       "    .dataframe tbody tr th {\n",
       "        vertical-align: top;\n",
       "    }\n",
       "</style>\n",
       "<table border=\"1\" class=\"dataframe\">\n",
       "  <thead>\n",
       "    <tr style=\"text-align: right;\">\n",
       "      <th></th>\n",
       "      <th>count(People.ID)</th>\n",
       "      <th>Provider.ServiceType</th>\n",
       "    </tr>\n",
       "  </thead>\n",
       "  <tbody>\n",
       "    <tr>\n",
       "      <th>0</th>\n",
       "      <td>8</td>\n",
       "      <td>Streaming</td>\n",
       "    </tr>\n",
       "  </tbody>\n",
       "</table>\n",
       "</div>"
      ],
      "text/plain": [
       "   count(People.ID) Provider.ServiceType\n",
       "0                 8            Streaming"
      ]
     },
     "execution_count": 68,
     "metadata": {},
     "output_type": "execute_result"
    }
   ],
   "source": [
    "explicitjoinsel=\"\"\"\n",
    "SELECT \n",
    "    COUNT(People.ID), Provider.ServiceType \n",
    "FROM \n",
    "    People JOIN Provider \n",
    "ON People.Provider = Provider.ID\n",
    "WHERE Provider.ServiceType='Streaming'\n",
    "GROUP BY Provider.ServiceType;\n",
    "\"\"\"\n",
    "out=make_query(explicitjoinsel)\n",
    "make_frame(out, legend=[\"count(People.ID)\", \n",
    "            \"Provider.ServiceType\"])"
   ]
  },
  {
   "cell_type": "code",
   "execution_count": null,
   "metadata": {
    "collapsed": true
   },
   "outputs": [],
   "source": []
  }
 ],
 "metadata": {
  "kernelspec": {
   "display_name": "Python 3",
   "language": "python",
   "name": "python3"
  },
  "language_info": {
   "codemirror_mode": {
    "name": "ipython",
    "version": 3
   },
   "file_extension": ".py",
   "mimetype": "text/x-python",
   "name": "python",
   "nbconvert_exporter": "python",
   "pygments_lexer": "ipython3",
   "version": "3.6.2"
  }
 },
 "nbformat": 4,
 "nbformat_minor": 2
}
